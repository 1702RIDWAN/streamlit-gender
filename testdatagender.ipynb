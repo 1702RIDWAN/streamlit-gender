{
 "cells": [
  {
   "cell_type": "code",
   "execution_count": 7,
   "id": "1f7a82e1-75dd-4814-8f56-a87287322239",
   "metadata": {},
   "outputs": [],
   "source": [
    "import streamlit as st\n",
    "import joblib\n",
    "import time"
   ]
  },
  {
   "cell_type": "code",
   "execution_count": 8,
   "id": "0aa0d2b8-9f9c-45be-9394-50b9211c5ae6",
   "metadata": {},
   "outputs": [],
   "source": [
    "# init\n",
    "color_selected = None\n",
    "music_genre_selected = None\n",
    "beverage_selected = None\n",
    "soft_drink_selected = None\n",
    "predicted_rest = None\n",
    "predicted_value=None"
   ]
  },
  {
   "cell_type": "code",
   "execution_count": 9,
   "id": "0acdba3c-e448-4129-a6ac-74accc742d49",
   "metadata": {},
   "outputs": [],
   "source": [
    "#map\n",
    "color_op = ('Cool', 'Neutral', 'Warm')\n",
    "music_genre_op = ('Rock', 'Hip hop', 'Folk/Traditional', 'Jazz/Blues', 'Pop', 'Electronic','R&B and soul')\n",
    "beverage_op = ('Vodka', 'Wine', 'Whiskey',\"Doesn't drink\",'Beer', 'Other')\n",
    "soft_drink_op = ('7UP/Sprite', 'Coca Cola/Pepsi','Fanta','Other')"
   ]
  },
  {
   "cell_type": "code",
   "execution_count": 10,
   "id": "8b1d1fd8-f8cf-4e40-9064-9aa4a02fff94",
   "metadata": {},
   "outputs": [],
   "source": [
    "color_map = {'Cool': 1, 'Neutral': 2, 'Warm': 3}\n",
    "music_genre_map = {\n",
    "    'Rock': 1, \n",
    "    'Hip hop': 2, \n",
    "    'Folk/Traditional': 3, \n",
    "    'Jazz/Blues': 4,\n",
    "    'Pop': 5,\n",
    "    'Electronic': 6,\n",
    "    'R&B and soul': 7,\n",
    "}"
   ]
  },
  {
   "cell_type": "code",
   "execution_count": 11,
   "id": "e966009c-b360-44ce-b09c-e9e1c3fdfb54",
   "metadata": {},
   "outputs": [],
   "source": [
    "beverage_map = {\n",
    "    'Vodka' : 1, \n",
    "    'Wine' : 2, \n",
    "    'Whiskey' : 3,\n",
    "    \"Doesn't drink\" : 4,\n",
    "    'Beer': 5, \n",
    "    'Other' : 6\n",
    "}"
   ]
  },
  {
   "cell_type": "code",
   "execution_count": 12,
   "id": "48e704c2-383f-41dd-94d4-578ba96606b7",
   "metadata": {},
   "outputs": [],
   "source": [
    "soft_drink_map = {\n",
    "    '7UP/Sprite': 1, \n",
    "    'Coca Cola/Pepsi': 2,\n",
    "    'Fanta': 3,\n",
    "    'Other' : 4\n",
    "}\n"
   ]
  },
  {
   "cell_type": "code",
   "execution_count": 13,
   "id": "7d747044-cb83-4469-80ff-d3ca6cff0cea",
   "metadata": {},
   "outputs": [],
   "source": [
    "# Muat model\n",
    "model = joblib.load('Logistic_saved')\n"
   ]
  },
  {
   "cell_type": "code",
   "execution_count": 14,
   "id": "be1eee22-24c6-451a-95aa-04d5f80cbb06",
   "metadata": {},
   "outputs": [
    {
     "data": {
      "text/plain": [
       "DeltaGenerator()"
      ]
     },
     "execution_count": 14,
     "metadata": {},
     "output_type": "execute_result"
    }
   ],
   "source": [
    "# Tampilkan judul aplikasi\n",
    "st.title('Gender Prediction App')"
   ]
  },
  {
   "cell_type": "code",
   "execution_count": 16,
   "id": "349ad6d6-ffa2-4994-a654-0751908d29a3",
   "metadata": {},
   "outputs": [],
   "source": [
    "# Tambahkan input untuk fitur-fitur yang diperlukan\n",
    "col1, col2 = st.columns(2)\n",
    "with col1:\n",
    "    fav_color = st.selectbox(\n",
    "    \"Favorite Color\",\n",
    "    color_op,\n",
    "    index=None,\n",
    "    placeholder=\"Select Favorite Color...\",\n",
    "    )\n",
    "    fav_music_genre = st.selectbox(\n",
    "    \"Favorite Music Genre\",\n",
    "    music_genre_op,\n",
    "    index=None,\n",
    "    placeholder=\"Select Favorite Music Genre...\",\n",
    "    )\n",
    "with col2:\n",
    "    fav_beverage = st.selectbox(\n",
    "    \"Favorite Beverage\",\n",
    "    beverage_op,\n",
    "    index=None,\n",
    "    placeholder=\"Select Favorite Beverage...\",\n",
    "    )\n",
    "    fav_soft_drink = st.selectbox(\n",
    "    \"Favorite Soft Drink\",\n",
    "    soft_drink_op,\n",
    "    index=None,\n",
    "    placeholder=\"Select Favorite Soft Drink...\",\n",
    "    )\n",
    "\n",
    "bt1, bt2, bt3 = st.columns(3)\n",
    "with bt2:\n",
    "    if st.button(\"Predict\", type=\"primary\"):\n",
    "        # Tampilkan animasi loading\n",
    "        with st.spinner('Sedang memproses...'):\n",
    "            # Proses yang panjang atau tugas yang memakan waktu\n",
    "            time.sleep(2)  # Contoh proses yang memakan waktu selama 5 detik\n",
    "\n",
    "        # Mengubah nilai berdasarkan pilihan yang dipilih\n",
    "        if fav_color in color_map:\n",
    "            color_selected = color_map[fav_color]\n",
    "        if fav_music_genre in music_genre_map:\n",
    "            music_genre_selected = music_genre_map[fav_music_genre]\n",
    "        if fav_beverage in beverage_map:\n",
    "            beverage_selected = beverage_map[fav_beverage]\n",
    "        if fav_soft_drink in soft_drink_map:\n",
    "            soft_drink_selected = soft_drink_map[fav_soft_drink]\n",
    "\n",
    "        predicted_rest = model.predict([[color_selected, music_genre_selected, beverage_selected, soft_drink_selected]])\n",
    "\n",
    "        if predicted_rest[0] == 1:\n",
    "            predicted_value = \"Female\"\n",
    "            st.title(f':red[{predicted_value}]')\n",
    "        else:\n",
    "            predicted_value = \"Man\"\n",
    "            st.title(f':blue[{predicted_value}]')\n"
   ]
  },
  {
   "cell_type": "code",
   "execution_count": null,
   "id": "17529870-1ccd-4034-a910-a71bfaed697b",
   "metadata": {},
   "outputs": [],
   "source": []
  }
 ],
 "metadata": {
  "kernelspec": {
   "display_name": "Python 3 (ipykernel)",
   "language": "python",
   "name": "python3"
  },
  "language_info": {
   "codemirror_mode": {
    "name": "ipython",
    "version": 3
   },
   "file_extension": ".py",
   "mimetype": "text/x-python",
   "name": "python",
   "nbconvert_exporter": "python",
   "pygments_lexer": "ipython3",
   "version": "3.11.7"
  }
 },
 "nbformat": 4,
 "nbformat_minor": 5
}
